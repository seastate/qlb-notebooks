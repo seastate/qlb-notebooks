{
 "cells": [
  {
   "cell_type": "markdown",
   "metadata": {},
   "source": [
    "## Particle transport by currents and turbulence\n",
    "### Transport of particles by currents in air, water and other fluids\n",
    "Many environmental fluids -- masses of air in weather systems, or the water in lakes, rivers, estuaries, and the open ocean -- are moving at velocities that can vary from almost undetectable to extremely rapid. \n",
    "Particles enbedded in these fluids have two components of velocity:\n",
    "- The particles' velocity relative to the fluid in which they are embedded;\n",
    "- The velocity of the fluid itself.\n",
    "\n",
    "So far, in our consideration of particle movement in fluids, we have focused on the first of these velocity components. \n",
    "Here, we will begin to considered the consequences of the second.\n",
    "\n",
    "Let's begin with an example from agriculture: Suppose a rice farmer uses a crop-dusting airplane to apply pesticide to a rice paddy under no-wind conditions. \n",
    "The crop-duster has nozzles that emit droplets of known size. \n",
    "If we know the density of the pesticide mixture, we can calculate the sinking velocity of the liquid pesticide droplets using the calculators in Section 4. \n",
    "This assumes the particles are approximately spherical, which is probably a good assumption if the droplets are small). \n",
    "If we know the height at which these particles were released, we can use the sinking rate to calculate how long it takes pesticide particles to arrive at ground level.\n",
    "\n",
    "Under no-wind conditions, a long descent time means only a delay in arrival at the rice paddy. \n",
    "However, suppose rather than no-wind conditions there is a moderate breeze. \n",
    "In this scenario, as particles sink vertically they are carried horizontally by the wind. \n",
    "If you have walked downwind of a sprinkler or fountain in a stiff wind you are familiar with this phenomenon.</p>\n",
    "\n",
    "In the windy scenario, sinking time has a consequence that is potentially much more important than a delayed arrival time at the paddy: a long delay and strong wind might mean the pesticide arrives at ground level far downwind -- potentially missing the rice paddy entirely.\n",
    "\n",
    "The phenomenon of particles, mass, momentum, energy or any other *conserved quantity* being carried by moving fluid is called *advection* or *convection*. \n",
    "Different fields in the natural sciences use these terms slightly differently, but in all cases they imply that moving fluid transports a conserved quantity."
   ]
  },
  {
   "cell_type": "code",
   "execution_count": null,
   "metadata": {
    "jupyter": {
     "source_hidden": true
    },
    "tags": []
   },
   "outputs": [],
   "source": [
    "# Import modules:\n",
    "#%matplotlib\n",
    "from math import *\n",
    "import numpy as np\n",
    "from scipy.interpolate import CubicSpline, interp1d\n",
    "from scipy.optimize import root, bisect\n",
    "import matplotlib.pyplot as plt\n",
    "plt.ion()\n",
    "from ipywidgets import interact, interactive, fixed, interact_manual\n",
    "import ipywidgets as widgets"
   ]
  },
  {
   "cell_type": "markdown",
   "metadata": {},
   "source": [
    "### Mixing by turbulence\n",
    "Another feature common to many environmental fluids is *turbulence*.\n",
    "If you have been aboard an airplane flying through turbulent air, you have felt first-hand that turbulence is composed of \"eddies\" and other small-scale but energetic fluctuations of fluid velocity. \n",
    "Turbulence is also a very effective mechanism for mixing. \n",
    "When you stir your coffee to mix cream or sugar, you can see how effectuve this mechanism is. \n",
    "Sometime, when you have a lot of time on your hands, add cream or sugar and wait for the mixing to occur without stirring. \n",
    "This will give you a sense for how much turbulence has sped up the mixing process.\n",
    "\n",
    "Currents and other advective flows can cause turbulence -- faster flows tend to be more turbulent. \n",
    "However, it's important to keep in mind the difference between transport by currents (advection or convection) and mixing by turbulence. \n",
    "- In advection, if you start with a blob of a solute such as pesticide, the overall average position (in engineering jargon, the center of mass) of that blob moves with the current over time. \n",
    "- If you start with a blob of pesticide in turbulence (but no current), that blob will spread in all directions, but its average position will not change. \n",
    "This means the effect of turbulence is in some ways analagous to molecular diffusion. \n",
    "However, mixing by turbulence is much, much faster than molecular diffusion except at very small length scales (much smaller than a millimeter).\n",
    "\n",
    "Keeping in mind that advection and turbulence are distinct forms of transport by fluids, we can anticipate environmental situations in which we have high adection and low turbulence; low advection and high turbulence, high advection and high turbulence, etc."
   ]
  },
  {
   "cell_type": "markdown",
   "metadata": {},
   "source": [
    "### Models of particle transport by advection and turbulence\n",
    "A simple but useful approach for estimating the transport of particles in environmental flows is called a **Gaussian plume model**.\n",
    "\n",
    "To explain the key assumptions of this model, we'll use a terrestrial example of wind-borne seed dispersal. \n",
    "Useful references are a journal article, Okubo and Levin (1989), and a book by the same authors, Okubo and Levin (2001).\n",
    "\n",
    "The question we will address is: If a plant or tree releases seeds with sinking velocity $U$ above the ground at a height $h$, how widely do its seeds disperse? \n",
    "You can think of many examples of pollutant particles, carbon-containing particles in the ocean, aeolian dust particles, etc, whose distribution patterns are exactly analogous.\n",
    "In the Gaussian Plume Model of seed dispersal, we'll assume that there is constant wind velocity, $W$. \n",
    "In reality, the wind would likely vary over time and at different heights in intensity and direction; we will neglect this variation. \n",
    "\n",
    "We'll also assume that turbulent intensity, $K$, is also equal at all times and places. \n",
    "In reality, turbulence would also vary in time and space, but we will again neglect this complication. \n",
    "\n",
    "Finally, we'll assume that at large scales the advective transport is much faster than the turbulent mixing. \n",
    "This is mostly a technical detail, because it is almost always true for most parts of environmental flows, but this assumptions can have consequences in specific parts of the environment (very near the source, very near the ground, etc.).\n",
    "\n",
    "If we accept these assumptions, we can calculate formulas for the concentration of seeds in different parts of the atmosphere surrounding the seed source, and for the rate at which seeds are deposited on the ground at various downstream distances. \n",
    "These formulas are calculated for you in the Gaussian Plume calculator below."
   ]
  },
  {
   "cell_type": "markdown",
   "metadata": {
    "jupyter": {
     "outputs_hidden": false
    }
   },
   "source": [
    "#### Model Inputs:\n",
    "In the default settings (to reproduce these, just restart the kernel in the menu at the top left):\n",
    "- the seed source is set to $h = 10 m$;\n",
    "- the seed's sinking speed is $U = 0.5 \\frac{m}{s}$;\n",
    "- the rate at which seeds are released is one per second: $n = 1 s^{-1}$; \n",
    "- the default wind speed is $W = 1 \\frac{m}{s}$; and,\n",
    "- the default turbulent mixing intensity is $K = 0.5 \\frac{m^2}{s}$.\n",
    "\n",
    "You can modify these as needed to apply to a specific problem. \n",
    "For example, in calculating the distribution pattern of pesticide from aerial spraying, you might calculate the sinking speed of pesticide droplets in Section 4, and use the calculator below to explore the consequences of various release heights, wind speeds, turbulence intensities, etc.\n",
    "\n",
    "#### Model outputs:\n",
    "The model output is in the form of three plots. \n",
    "- The top graph is the total rate of deposition as a function of downstream distance from the source. This is called the *Cross-Wind Integrated Deposition*, or *CWID*. \n",
    "\n",
    "    This terms means simply that we are not concerned with the relatively small spread of pesticide in the cross-stream direction.\n",
    "    We are instead mainly interested in the much larger dispersal of seeds (or other particles) in the downstream direction. \n",
    "    \n",
    "    The CWID integrates across all cross-stream positions, so it is straightforward to see the downstream transport. \n",
    "    In this plot, the horizontal axis is distance downstream from the source, $x$. \n",
    "    You can specify the extent of ground plotted by adjusting the plotting parameter $x_{max$.\n",
    "    \n",
    "- The bottom two plots show the distribution of seeds in the air (or other particles in other fluids, as the case may be). \n",
    "\n",
    "    In these plots, the horizontal axis is $x$, and the vertical axis is height above the ground, $z$. \n",
    "    The color contours represent particle concentration. \n",
    "    The first of these two plots shows this concentration on a linear scale, as indicated by the scale bar at right. \n",
    "    The bottom plot shows the same concentration, but on a $\\log_{10}$ scale. \n",
    "    \n",
    "    The two plots show the same distribution; it is often easier to get an overall sense for the plume pattern on the linear scale plot, but easier to see dilute parts of the particle distribution using the log scale plot."
   ]
  },
  {
   "cell_type": "code",
   "execution_count": null,
   "metadata": {
    "jupyter": {
     "source_hidden": true
    },
    "tags": []
   },
   "outputs": [],
   "source": [
    "#import matplotlib\n",
    "plot_prefix = \"GaussPlume_plot%d\" % (int(10000.*np.random.uniform()))\n",
    "\n",
    "xmax=widgets.FloatText(value=40.,width=20,description = r\"Range of plot, $X_{max}$ ($m$)\")\n",
    "n=widgets.FloatText(value=1.,description = r\"Particle release rate, $n$ ($\\#/s$)\")\n",
    "H=widgets.FloatText(value=10.,description = r\"Release height, $h$ ($m$)\")\n",
    "W_s=widgets.FloatText(value=0.5,description = r\"Particle sinking speed, $U_{s}$ ($m/s$)\")\n",
    "u_bar=widgets.FloatText(value=1.,description = r\"Wind speed, $W$ (m/s)\")\n",
    "A=widgets.FloatText(value=0.5,description = r\"Turbulent mixing intensity, $K$ ($m**2/s$)\")\n",
    "\n",
    "ui1f = widgets.VBox([xmax,n,H])\n",
    "ui2f = widgets.VBox([W_s,u_bar,A])\n",
    "ui3f = widgets.HBox([ui1f, ui2f])\n",
    "\n",
    "def Sh7(xmax,n,H,W_s,u_bar,A):\n",
    "    # This is a combination of results from Okubo & Levin (1989) and CHapt 3, p. 67 from Okubo & Levin (2001).\n",
    "    #\n",
    "    # Note that this has somewhat confusing notation. The coded variable have symbols consistent with the \n",
    "    # literature from which they were cited. The text box labels have notation consistent with the\n",
    "    # rest of the worksheet, and with intutive symbols (like W for wind instead of u_bar).\n",
    "    n=1.     # The rate of pollen release -- leave 1 to have normalized deposition.\n",
    "    nbins=200\n",
    "    xs=np.linspace(0.5,xmax,nbins)\n",
    "    #xs=np.linspace(0.,xmax,nbins+1)[1:-1]\n",
    "    #print 'xs = ',xs\n",
    "    # Calculate Cross-Wind Integrated Deposition (CWID)\n",
    "    sigma_z=np.sqrt(2*A*xs/u_bar);\n",
    "    CWID=n*W_s/(sqrt(2*pi)*u_bar*sigma_z)*np.exp(-(H - W_s*xs/u_bar)**2./(2*sigma_z**2))\n",
    "    \n",
    "    #  Create a plot of CWID\n",
    "    fig3, ax3 = plt.subplots()\n",
    "    CWIDpts=[[xs[i],CWID[i]] for i in range(len(xs))]\n",
    "    ax3.plot(xs,CWID,'-',color='red',label='CWID')\n",
    "    ax3.set_xlabel(r'Distance from source, $x$')\n",
    "    ax3.set_ylabel(r'Particle deposition rate, $CWID$')\n",
    "    \n",
    "    # Create a contour plot of the underlying Gaussian plume (log scale for conc.):\n",
    "    fig4, ax4 = plt.subplots()\n",
    "    S = lambda n_,u_,K_,x_,z_,w_s_,H_: n_*np.sqrt(u_/(float(pi)*K_*x_))*np.exp(-((z_-H_)+w_s_*x_/u_)**2/(4*K_*x_/u_))   \n",
    "    x = np.arange(xs[0],xmax,(xmax-xs[0])/nbins)\n",
    "    z = np.arange(0.,1.5*H,H/32.)\n",
    "    X,Z=np.meshgrid(x,z)\n",
    "    #print 'X=',X\n",
    "    #print np.size(X)\n",
    "    s=S(n,u_bar,A,X,Z,W_s,H)\n",
    "    s_log10=np.log10(S(n,u_bar,A,X,Z,W_s,H))\n",
    "    #s_log10=log(S(n,u_bar,A,X,Z,W_s,H),10.)\n",
    "    #print 'max(s)=',s.max()\n",
    "    #print 's = ',s\n",
    "    #print 'max(s_log10)=',s_log10.max()\n",
    "    #print 's_log10 = ',s_log10\n",
    "    \n",
    "\n",
    "    levels=[-6.,-5.,-4.,-3.,-2.,-1.,0.]\n",
    "    CS2 = ax4.contourf(X, Z, s_log10,levels)\n",
    "    #pyplot.clim([-6.,0.])\n",
    "    cbar = plt.colorbar(CS2)\n",
    "    #plt.clabel(CS, inline=1, fontsize=10)\n",
    "    plt.title('Gaussian plume model: $\\log_{10}$ scale')\n",
    "    plt.xlabel(\"Distance from source, $x$\")\n",
    "    plt.ylabel(\"Height, $z$\")        \n",
    "    plt.savefig(plot_prefix+\".2.png\")\n",
    "\n",
    "    # Create a contour plot of the underlying Gaussian plume (log scale for conc.):\n",
    "    fig5, ax5 = plt.subplots()\n",
    "    \n",
    "    CS = ax5.contourf(X, Z, s)\n",
    "    #pyplot.clim([0.,2.])\n",
    "    cbar = plt.colorbar(CS)\n",
    "    #plt.clabel(CS, inline=1, fontsize=10)\n",
    "    \n",
    "    plt.title('Gaussian plume model: linear scale')\n",
    "    plt.xlabel(\"Distance from source, $x$\")\n",
    "    plt.ylabel(\"Height, $z$\")        \n",
    "    #plt.savefig(plot_prefix+\".1.png\")\n",
    "    \n",
    "    \n",
    "    # Show the plots\n",
    "    #plt.show()\n",
    "    #show(CWIDplot,gridlines=True)\n",
    "    \n",
    "out8 = widgets.interactive_output(Sh7,{'xmax':xmax,'n':n,'H':H,'u_bar':u_bar,'A':A,'W_s':W_s})\n",
    "display(ui3f,out8)\n"
   ]
  },
  {
   "cell_type": "code",
   "execution_count": null,
   "metadata": {
    "jupyter": {
     "source_hidden": true
    }
   },
   "outputs": [],
   "source": []
  }
 ],
 "metadata": {
  "kernelspec": {
   "display_name": "Python 3 (ipykernel)",
   "language": "python",
   "name": "python3"
  },
  "language_info": {
   "codemirror_mode": {
    "name": "ipython",
    "version": 3
   },
   "file_extension": ".py",
   "mimetype": "text/x-python",
   "name": "python",
   "nbconvert_exporter": "python",
   "pygments_lexer": "ipython3",
   "version": "3.10.12"
  }
 },
 "nbformat": 4,
 "nbformat_minor": 4
}
