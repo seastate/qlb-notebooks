{
 "cells": [
  {
   "cell_type": "markdown",
   "metadata": {
    "jupyter": {
     "outputs_hidden": false
    },
    "tags": []
   },
   "source": [
    "# 🧮 Movement of spherical particles in fluid: Analyses using the Reynolds number: Part 1\n",
    "    \n",
    "## Background\n",
    "\n",
    "Many environmental problems concern how particles move in fluids, or how mass and other conserved quantities are transported in or out of particles that are moving in fluids. \n",
    "For example, the rate at which carbon dioxide is removed from the atmosphere into the ocean is affected by how fast carbon fixed by phytoplankton sinks into the deep ocean. \n",
    "The \"footprint\" of area contaminated by pollutant particles emitted by a sewage outfall depends on how fast these particles sink. \n",
    "The \"drift\" of corn pollen from genetically modified plants into neighboring fields of organic corn depends on the sinking rate of the pollen particles. \n",
    "You can think of many other examples.\n",
    "\n",
    "Like all physical objects, immersed particles obey Newton's 2nd Law\n",
    "\\begin{align}\n",
    "\\mathit{sum~of~forces} = \\mathit{mass} \\times \\mathit{acceleration}\n",
    "\\end{align}\n",
    "\n",
    "This Law gives us a tool to calculate the rate at which an object subjected to a force (e.g., gravity) will move in a particular type of fluid. \n",
    "If we know the particle's movement, Newton's Law also gives us a tool with which to calculate the force that must be acting on the particle to cause that movement. \n",
    "This notebook provides these tools in an accessible format. \n",
    "You can apply these tools in a variety of environmental contexts, to draw conclusons about many diverse processes that involve particles moving in fluids in the environment."
   ]
  },
  {
   "cell_type": "markdown",
   "metadata": {},
   "source": [
    "## Forces on particles in fluids\n",
    "To apply Newton's Law, let's consider the forces acting on an immersed particle. \n",
    "For most environmental particles, three types of forces most strongly affect movement:\n",
    "\n",
    "1. **Gravity**: Every particle has mass, *M*. \n",
    "The gravitational force on a particle is $F_{gravity} = g \\times M$, where $g = 9.81 \\frac{m}{s^2}$ is the gravitational acceleration.\n",
    "\n",
    "2. **Pressure**: As you know from your ears, if you have dived to the bottom of a swimming pool, pressure increases with depth.\n",
    "That implies that the pressure acting on the bottom surface of a particle is stronger than the pressure acting on the top of that particle (because the bottom is deeper than the top). \n",
    "This pressure difference results in a net force that we call **buoyancy**. \n",
    "It turns out that this force is always equal to the gravitational force on the mass of fluid that the particle displaces.\n",
    "    \n",
    "    Therefore, if the particle is denser than the fluid, its mass is greater than the mass of the displaced fluid, and hence it has a net downward force (gravity exceeds buoyancy).\n",
    "    If the particle is less dense than the fluid, buoyancy exceeds gravity.\n",
    "\n",
    "3. **Viscosity**: Viscosity is a measure of the resistance to **shear** -- the motion of two parallel plates sliding past one another. \n",
    "For example, fluids like honey, molasses and glycerine have much higher viscosity than fluids like water and air. \n",
    "This means that dragging a particle through honey at a given velocity requires much more force than dragging the same particle at the same velocity through water or air.\n",
    "\n",
    "These three forces all contribute to the left hand side of the equation for Newton's Law -- the sum of forces -- in Newton's Law as applied to an immersed particle.\n",
    "In addition, the equation has the term on the right hand side.\n",
    "This term represents the rate of change of **momentum**, also called inertia, that results from the summed forces.\n",
    "This is often referred to as the \"inertial force\". \n",
    "It is not really a force, but it has units of force, and it is sometimes convenient to use this shorthand (while keeping in mind its actual interpretation). \n",
    "\n",
    "With that caveat, we can talk about a fourth force:\n",
    "\n",
    "4. **Inertia**: This reflects the fact that, to move in a fluid, a particle must move some of the surrounding fluid. \n",
    "That means that any acceleration of the particle also means acceleration of some fluid. \n",
    "Depending on the flow geometry, even a particle moving at constant speed might continuously accelerate some of the surrounding fluid. In both situations, the fluid acceleration would be reflected as an \"inertial force\" on the particle."
   ]
  },
  {
   "cell_type": "markdown",
   "metadata": {},
   "source": [
    "## Scaling of fluid forces\n",
    "As discussed in class and explained in the analysis handout, we can deduce estimates of approximately how forces associated with viscosity and inertia vary with characteristics of the particle (size, speed) and the fluid (viscosity, density).\n",
    "\n",
    "These deductions led us to expect that the viscous force will be approximately\n",
    "\\begin{align}\n",
    "F_{visc} = \\mu \\times L \\times U$\n",
    "\\end{align}\n",
    "\n",
    "where $\\mu$ is the fluid viscosity, $L$ is the particle's linear size (e.g., its diameter if it is a sphere), and $U$ is the particle's velocity relative to the fluid. \n",
    "That is, the viscous force is roughly proportional to the visocity of the fluid, and the size and speed of the particle.\n",
    "\n",
    "In contrast, our deductions led us to expect that the inertial force will be approximately\n",
    "\\begin{align}\n",
    "F_{inertial} = \\rho \\times L^2 \\times U^2\n",
    "\\end{align}\n",
    "\n",
    "where $\\rho$ is the fluid density. \n",
    "That is, the inertial force is roughly proportional to the density, and to the *square* of the size and speed."
   ]
  },
  {
   "cell_type": "markdown",
   "metadata": {},
   "source": [
    "## Relative magnitudes of forces, and dynamic similarity\n",
    "An implication of the results above is that the relative magnitides of viscous and inertial forces are usually different in two different fluids, for a given particle size and speed, if the fluids differ in density and/or viscosity. \n",
    "Also, the relative magnitudes are usually different for two particles of different sizes or speeds in a given fluid.\n",
    "    \n",
    "The relative magnitudes turn out to have a great deal of predictive value for fluid flows, so much so that the ratio of the estimates above have been given a specific name: the **Reynolds number**, abbreviated as $\\mathcal{Re}$.\n",
    "\n",
    "The Reynolds number is given by\n",
    "\n",
    "\\begin{align}\n",
    "\\mathcal{Re} = \\frac{F_{inertial}}{F_{visc}}$\n",
    "\\end{align}\n",
    "\n",
    "When the Reynolds number is large ($\\mathcal{Re} \\gg 1$), it implies that the inertial forces are generally much larger than the viscous forces.\n",
    "As suggested by the formula, this tends to occur when:\n",
    "- the particle is large or fast ($L$ or $U$ are large); or,\n",
    "- when the fluid has high density and low viscosity ($\\rho$ is large and $\\mu$ is small). \n",
    "\n",
    "In the opposite situations, the Reynolds number is small ($\\mathcal{Re} \\ll 1$), implying that the inertial forces are generally much smaller than the viscous forces.\n",
    "\n",
    "Two key ideas emerge from these deductions:\n",
    "\n",
    "1.Two geometrically similar immersed particles with the same Reynolds numbers are **dynamically similar**. \n",
    "    That is, they have the same relative magnitudes of inertial and viscous forces and hence are *scale models* of each other.\n",
    "\n",
    "2. It is the **combination** of the variables that determines the Reynolds number. \n",
    "    That is, a very small particle in a relatively low-viscosity fluid like water can have the same Reynolds number as a large particle in a high-viscosity fluid like honey.\n",
    "\n",
    "That means the Reynolds number gives us an instruction set for making scale models of particles in flow: We can adjust size, speed viscosity and density in whatever ways are convenient, as long as we match the final ratio $\\mathcal{Re}$"
   ]
  },
  {
   "cell_type": "markdown",
   "metadata": {},
   "source": [
    "## Look-up tables for forces on moving particles\n",
    "\n",
    "In addition to enabling us to make scale models, the Reynolds number dramatically shrinks the parameter space over which we need to make experimental observations or numerical computations to characterize particle movement in fluids.\n",
    "\n",
    "In the original situation, we had four parameters to vary: $\\rho$,$L$,$U$, and $\\mu$. \n",
    "If we decide we need 20 values of each parameter in order to fully characterize the parameter space, we need to make $20^4  = 160000$ observations.\n",
    "\n",
    "Once we realize that all geometrically similar particles with the same $\\mathcal{Re}$ are scale models of each other (that is, they are *dynamically similar*), we get the same resolution by measuring only 20 different values of $\\mathcal{Re}$. \n",
    "\n",
    "With these observations, we can then easily make a **Look-Up Table**, using the Reynolds number to identify the appropriate scale model results needed to infer particle forces. speeds, etc. \n",
    "Engineers and fluid mechanicists have done this for many different particle shapes. \n",
    "Here, we will focus on spherical particles, but most of our conclusioins apply to other shapes with the same rationale and relatively modest quantittive adjustments.\n",
    "\n",
    "### The Coefficient of Drag, $C_d$\n",
    "As described in the class notes, the resistance force $F$ on an immersed particle moving in a fluid is commonly expressed in a ratio known as the Coefficient of Drag:\n",
    "\\begin{align}\n",
    "C_d  = \\frac{F}{\\frac{1}{2} \\rho L^2 U^2}\n",
    "\\end{align}\n",
    "    \n",
    "Note that the denominator in this expression is very similar in form and rationale to our estimate of the magnitude of the inertial force.\n",
    "The power of this approach is illustrated by the plot below, which shows with one curve the force on *any* size particle moving at *any* speed in fluid of *any* viscosity and density."
   ]
  },
  {
   "cell_type": "code",
   "execution_count": null,
   "metadata": {
    "jupyter": {
     "source_hidden": true
    },
    "tags": []
   },
   "outputs": [],
   "source": [
    "# Import modules:\n",
    "#%matplotlib\n",
    "from math import *\n",
    "import numpy as np\n",
    "from scipy.interpolate import CubicSpline, interp1d\n",
    "from scipy.optimize import root, bisect\n",
    "import matplotlib.pyplot as plt\n",
    "plt.ion()\n",
    "from ipywidgets import interact, interactive, fixed, interact_manual\n",
    "import ipywidgets as widgets"
   ]
  },
  {
   "cell_type": "code",
   "execution_count": null,
   "metadata": {
    "jupyter": {
     "source_hidden": true
    },
    "tags": []
   },
   "outputs": [],
   "source": [
    "# Experimental data for Cd for a sphere:\n",
    "relist=[ .05875, .1585, .4786, 3.020, 7.015, 15.49, 57.54, 144.5, 264.9, 512.9, 1000., 1862., 3162., 4764., 8375., .1556*10**5, .2648*10**5, .3467*10**5, .5888*10**5, .1000*10**6, .1702*10**6, .2317*10**6, .2648*10**6, .2710*10**6, .2851*10**6, .3020*10**6, .3388*10**6, .3981*10**6, .5129*10**6, .1778*10**7, .2291*10**7, .5012*10**7]\n",
    "cdlist = [492.0, 169.8, 58.88, 10.86, 5.623, 3.388, 1.479, .9204, .7194, .5623, .4786, .4365, .4074, .3890, .3981, .4395, .4571, .4775, .4732, .4624,.4395, .4046, .3733, .3467, .2472, .1778, .1047, .09772, .1000, .1778, .1862, .1862]\n",
    "CdRe_logdata = [(log(relist[i],10),log(cdlist[i],10)) for i in range(len(relist))]\n",
    "Re_logdata = [log(relist[i],10) for i in range(len(relist))]\n",
    "Cd_logdata = [log(cdlist[i],10) for i in range(len(relist))]\n",
    "stokes_transition = 1.5\n",
    "#CdL_interp = spline(CdRe_logdata)\n",
    "#CdL_interp = CubicSpline(Re_logdata,Cd_logdata)\n",
    "CdL_interp = interp1d(Re_logdata,Cd_logdata)\n",
    "ReL_plot = np.linspace(-4,Re_logdata[-1],num=128)\n",
    "#ReL_plot = np.linspace(Re_logdata[0],Re_logdata[-1],num=128)\n",
    "#CdL_plot = CdL_interp(ReL_plot)\n",
    "# Stokes and Oseen analytical solutions\n",
    "Cd_Stokes = lambda Re_: 24./Re_\n",
    "Cd_Oseen = lambda Re_: 24./Re_*(1.+3./16.*Re_)\n",
    "CdL_Stokes = lambda logRe_: np.log10(24./np.power(10,logRe_))\n",
    "CdL_Oseen = lambda logRe_: np.log10(24./np.power(10,logRe_)*(1.+3./16.*np.power(10,logRe_)))\n",
    "CdRe = lambda logRe_: CdL_Oseen(logRe_) if logRe_ <= log(stokes_transition,10) else CdL_interp(logRe_)\n",
    "CdL_plot = [CdRe(r) for r in ReL_plot]"
   ]
  },
  {
   "cell_type": "code",
   "execution_count": null,
   "metadata": {
    "jupyter": {
     "source_hidden": true
    },
    "tags": []
   },
   "outputs": [],
   "source": [
    "#  Output a graph to show the various estimates\n",
    "fig, ax = plt.subplots()\n",
    "ax.plot(Re_logdata,Cd_logdata,'o',color='purple',label='Experiment (data)')\n",
    "ax.set_xlabel(r'Reynolds number, $\\log_{10}Re$')\n",
    "ax.set_ylabel(r'Drag Coefficient, $\\log_{10}Cd$')\n",
    "ReL_Stokes = np.linspace(-4.,log(stokes_transition,10),8)\n",
    "ax.plot(ReL_Stokes,CdL_Stokes(ReL_Stokes),color='blue',label='Stokes theory')\n",
    "ReL_Oseen = np.linspace(-4.,log(stokes_transition,10),8)#ax.plot(CdL_Oseen,-4,log(stokes_transition,10),color='black',legend_label='Oseen theory')\n",
    "ax.plot(ReL_Oseen,CdL_Oseen(ReL_Oseen),color='red',label='Oseen theory')\n",
    "ax.plot(ReL_plot,CdL_plot,'-.',color='cyan',label='Interpolation')\n",
    "ax.legend();"
   ]
  },
  {
   "cell_type": "markdown",
   "metadata": {},
   "source": [
    "In this plot, note that the scales are logarithmic base 10 for both axes.\n",
    "Note also that there are several types of data used to define the curve:\n",
    "- cyan line (and purple dots) for experimental observations\n",
    "- blue and red lines for analytical model calculations.\n",
    "\n",
    "The dash-dot cyan line interpolates between these data in a sensible way, providing a consistent function across many orders of magnitude of Reynolds number."
   ]
  },
  {
   "cell_type": "markdown",
   "metadata": {
    "jupyter": {
     "outputs_hidden": false
    },
    "tags": []
   },
   "source": [
    "## Matching Reynolds numbers for dynamical similarity\n",
    "### Reynolds number calculator\n",
    "This part of the worksheet enables you to calculate the parameters to make a dynamically similar scale model of a particle moving in a fluid.\n",
    "The input panel below has two columns. \n",
    "In the left column, you can enter the characteristics of the object of interest, and the fluid in which it is immersed. In the right column, you can enter the characteristics of the model particle and the fluid in which it is immersed. \n",
    "The worksheet uses Equation (1) above to calculate the Reynolds numbers of both objects for you. \n",
    "If they match, the model is dynamically similar to the object."
   ]
  },
  {
   "cell_type": "code",
   "execution_count": null,
   "metadata": {
    "jupyter": {
     "source_hidden": true
    },
    "tags": []
   },
   "outputs": [],
   "source": [
    "LabelObj = widgets.Label(value='Object',\n",
    "                         layout=widgets.Layout(display=\"flex\", \n",
    "                                               justify_content=\"center\", \n",
    "                                               width=\"100%\"))\n",
    "LabelModel = widgets.Label(value='Model',\n",
    "                         layout=widgets.Layout(display=\"flex\", \n",
    "                                               justify_content=\"center\", \n",
    "                                               width=\"100%\"))\n",
    "mu1=widgets.FloatText(value=1.376e-3,width=20,description = r\"$\\mu~~ (\\frac{N s}{m^2})$\")\n",
    "rho1=widgets.FloatText(value=1028.,description = \"$\\\\rho$ ($kg/m^3$)\")\n",
    "U1=widgets.FloatText(value=5.e-6,description = \"$U$ ($m/s$)\")\n",
    "L1=widgets.FloatText(value=5.e-6,description = \"$L$ (m)\")\n",
    "\n",
    "mu2=widgets.FloatText(value=1.376e-3,width=20,description = r\"$\\mu~~ (\\frac{N s}{m^2})$\")\n",
    "rho2=widgets.FloatText(value=1028.,description = \"$\\\\rho$ ($kg/m^3$)\")\n",
    "U2=widgets.FloatText(value=5.e-6,description = \"$U$ ($m/s$)\")\n",
    "L2=widgets.FloatText(value=5.e-6,description = \"$L$ (m)\")\n",
    "\n",
    "ui1 = widgets.VBox([LabelObj,mu1,rho1,U1,L1])\n",
    "ui2 = widgets.VBox([LabelModel,mu2,rho2,U2,L2])\n",
    "ui3 = widgets.HBox([ui1, ui2])\n",
    "\n",
    "def REfunc1(rho1,U1,L1,mu1):\n",
    "    print('Object: Re = {:.4g}'.format(abs(rho1*U1*L1/mu1)))\n",
    "\n",
    "def REfunc2(rho2,U2,L2,mu2):\n",
    "    print('Model: Re = {:.4g}'.format(abs(rho2*U2*L2/mu2)))\n",
    "\n",
    "out1 = widgets.interactive_output(REfunc1,{'rho1':rho1,'U1':U1,'L1':L1,'mu1':mu1})\n",
    "out2 = widgets.interactive_output(REfunc2,{'rho2':rho2,'U2':U2,'L2':L2,'mu2':mu2})\n",
    "display(ui3,out1,out2)"
   ]
  },
  {
   "cell_type": "markdown",
   "metadata": {
    "jupyter": {
     "outputs_hidden": false
    }
   },
   "source": [
    "## Calculating force on a spherical particle moving at known velocity, $U$\n",
    "### Force calculator\n",
    "This part of the worksheet enables you to calculate the force required to propel a particle of given size through a fluid with known viscosity and density. \n",
    "The rationale is as follows:\n",
    "1. Use the particle diameter, $D$, and velocity, $U$, and the fluid density ($\\rho$) and viscosity ($\\mu$), to calculate $\\mathcal{Re}$ via Equation (1).\n",
    "2. Use $\\mathcal{Re}$ to calculate the Coefficient of Drag, $C_d$\n",
    "3. Use $C_d$, the particle size and velocity, and the fluid density, to calculate the drag force $F$ via Equation (2). \n",
    "\n",
    "To do this, we need to algebraically rearrange Equation (2) to solve for $F$.\n",
    "\n",
    "The input panel below has text boxes for the particle size and velocity and the fluid density and viscosity as inputs, and the force required to maintain the particle's velocity as output:"
   ]
  },
  {
   "cell_type": "code",
   "execution_count": null,
   "metadata": {
    "jupyter": {
     "source_hidden": true
    },
    "tags": []
   },
   "outputs": [],
   "source": [
    "mu3=widgets.FloatText(value=1.376e-3,width=20,description = r\"$\\mu~~ (\\frac{N s}{m^2})$\")\n",
    "rho3=widgets.FloatText(value=1028.,description = r\"$\\rho~~ (\\frac{kg}{m^3})$\")\n",
    "U3=widgets.FloatText(value=5.e-6,description = r\"$U~~ (\\frac{m}{s})$\")\n",
    "D3=widgets.FloatText(value=5.e-6,description = r\"$D~~ (m)$\")\n",
    "\n",
    "ui1a = widgets.VBox([mu3,rho3])\n",
    "ui2a = widgets.VBox([U3,D3])\n",
    "ui3a = widgets.HBox([ui1a, ui2a])\n",
    "\n",
    "def F3(rho3,U3,D3,mu3):\n",
    "    Re=abs(D3*U3*rho3/mu3)\n",
    "    logRe=log(Re,10)\n",
    "    logCd=CdRe(logRe)\n",
    "    Cd_=10**logCd\n",
    "    F_=np.sign(U3)*0.5*rho3*pi/4.*D3**2*U3**2*Cd_\n",
    "    print('Force required to move sphere at velocity U: F = {:.4g} N'.format(F_))\n",
    "     \n",
    "out3 = widgets.interactive_output(F3,{'rho3':rho3,'U3':U3,'D3':D3,'mu3':mu3})\n",
    "display(ui3a,out3)"
   ]
  },
  {
   "cell_type": "markdown",
   "metadata": {
    "jupyter": {
     "outputs_hidden": false
    }
   },
   "source": [
    "### Density calculator\n",
    "This calculator addresses the situation when we have observed a particle's sinking rate, and we would like to infer its density.\n",
    "This is closely related to the situation in 3.1:\n",
    "\n",
    "Having calculated the force $F$, we then need to do an additional calculation to find the density of the sphere required to produce that force on the immersed particle. \n",
    "In this calculator, the inputs are the same as in 3.1, and the output is the density required to move the particle at the specified velocity."
   ]
  },
  {
   "cell_type": "code",
   "execution_count": null,
   "metadata": {
    "jupyter": {
     "source_hidden": true
    },
    "tags": []
   },
   "outputs": [],
   "source": [
    "g=9.81\n",
    "\n",
    "mu4=widgets.FloatText(value=1.376e-3,width=20,description = r\"$\\mu~~ (\\frac{N s}{m^2})$\")\n",
    "rho_water=widgets.FloatText(value=1028.,description = r\"$\\rho_{water}~~ (\\frac{kg}{m^3})$\")\n",
    "U4=widgets.FloatText(value=5.e-6,description = r\"$U~~ (\\frac{m}{s})$\")\n",
    "D4=widgets.FloatText(value=5.e-6,description = r\"$D~~ (m)$\")\n",
    "\n",
    "ui1b = widgets.VBox([mu4,rho_water])\n",
    "ui2b = widgets.VBox([U4,D4])\n",
    "ui3b = widgets.HBox([ui1b, ui2b])\n",
    "\n",
    "def rho4(rho_water,U4,D4,mu4):\n",
    "    if U4==0: # We don't have to calculate anything...\n",
    "        rho_sphere=rho4\n",
    "        print('Particle density equals fluid density: rho_sphere = {:.4g}'.format(rho_sphere))\n",
    "    else:\n",
    "        # Geometry:\n",
    "        rr=D4/2.\n",
    "        vol=float(4./3.*pi*rr**3)\n",
    "        Re=abs(D4*U4*rho_water/mu4)\n",
    "        logRe=log(Re,10)\n",
    "        logCd=CdRe(logRe)\n",
    "        Cd_=10**logCd\n",
    "        F_=np.sign(U4)*0.5*rho_water*pi/4.*D4**2*U4**2*Cd_\n",
    "        # Density calculation\n",
    "        excess_mass=F_/g\n",
    "        rho_excess=excess_mass/vol\n",
    "        rho_sphere=rho_excess+rho_water     \n",
    "        print('Particle density: rho_sphere =  = {:.4g} kg/m^3'.format(rho_sphere))\n",
    "    \n",
    "out4 = widgets.interactive_output(rho4,{'rho_water':rho_water,'U4':U4,'D4':D4,'mu4':mu4})\n",
    "display(ui3b,out4)"
   ]
  },
  {
   "cell_type": "markdown",
   "metadata": {
    "jupyter": {
     "outputs_hidden": false
    }
   },
   "source": [
    "## Calculating velocity of a spherical particle propelled by known force, $F$\n",
    "### Velocity calculator #1\n",
    "As noted, the $\\mathcal{Re}-C_d$ curve describes the movement of all spheres at all speeds in all (simple) fluids. \n",
    "This is sufficient to determine the velocity of a sphere if we know its size, the force exerted on it, and the fluid characteristics. \n",
    "\n",
    "There is however a slight complication: \n",
    "Both $Re$ and $C_d$ are functions of particle velocity, $U$, (as in Equations (1) and (2)). \n",
    "However, because we don't in general have a convenient formula for $C_d$, we can't write down an analytical formula to obtain the $U$ that satisfies both these equations simulataneously.\n",
    "\n",
    "To get past this hurdle, we'll use a time-honored mathematical technique: We'll guess.\n",
    "\n",
    "Guessing, or more precisely developing an intelligent sequence of trial-and-error iterations, is a great way to solve many computational problems. \n",
    "In fact, this type of iteration is essentially what a lot of computer algorithms for solving many hard problems are doing. \n",
    "Below, I've made a calculator that does this iteration for you. \n",
    "\n",
    "Before trusting in the software, however, it's important that you gain some first-hand experience with this iterative process.\n",
    "This part of the worksheet enables you to efficiently perform a sequence of iterations to determine the velocity of a particle with known force. \n",
    "The rationale is as follows:\n",
    "\n",
    "1. Guess a velocity, $U_{est}$.\n",
    "2. Use the rationale in Section 3 to calculate the force, $F_{est}$, required to propel the particle at $U_{est}$.\n",
    "3.Compare $F_{est}$ to the required force, and use the error to adjust the next guess of velocity up or down as needed.\n",
    "\n",
    "Repeat until the necessary accuracy has been achieved.\n",
    "With a little practice, you will be able to calculate velocity to within a percent or less error in a few iterations.\n",
    "\n",
    "The input panel below has text boxes for the particle size, the actual force on the particle, and the fluid density and viscosity -- and your guess at the velocity -- as inputs. \n",
    "Its output is the force required to move the particle at the velocity you guessed."
   ]
  },
  {
   "cell_type": "code",
   "execution_count": null,
   "metadata": {
    "jupyter": {
     "source_hidden": true
    },
    "tags": []
   },
   "outputs": [],
   "source": [
    "mu5=widgets.FloatText(value=1.376e-3,width=20,description = r\"$\\mu~~ (\\frac{N s}{m^2})$\")\n",
    "rho5=widgets.FloatText(value=1028.,description = r\"$\\rho~~ (\\frac{kg}{m^3})$\")\n",
    "U_guess=widgets.FloatText(value=0.001,description = r\"$U_{guess}~~ (\\frac{m}{s})$\")\n",
    "D5=widgets.FloatText(value=5.e-6,description = r\"$D~~ (m)$\")\n",
    "F5=widgets.FloatText(value=1.e-11,description = r\"$F~~ (N)$\")\n",
    "\n",
    "ui1c = widgets.VBox([mu5,F5,U_guess])\n",
    "ui2c = widgets.VBox([rho5,D5])\n",
    "ui3c = widgets.HBox([ui1c, ui2c])\n",
    "\n",
    "def force5(rho5,U_guess,D5,mu5,F5):\n",
    "    Re_guess=float(D5*abs(U_guess)*rho5/mu5)\n",
    "    logRe=log(Re_guess,10.)\n",
    "    logCd=CdRe(logRe)\n",
    "    Cd_guess=10.**logCd\n",
    "    F_guess=np.sign(U_guess)*0.5*rho5*pi/4.*D5**2*U_guess**2*Cd_guess\n",
    "    #print('Particle density: rho_sphere = {:.4g} kg/m^3'.format(rho_sphere))\n",
    "    print('Using guessed velocity, U_est = {:.4g}'.format(U_guess))\n",
    "    print('Reynolds number: Re = {:.4g}'.format(Re_guess))\n",
    "    print('\\nForce required to move sphere at velocity U_est:')\n",
    "    print('F_est = {:.4g}'.format(F_guess))\n",
    "\n",
    "    print('\\nF_est-F_actual = {:.4g}'.format(F_guess-F5))\n",
    "    print('\\nRelative error is {:.4g} \\%'.format(100.*(F_guess-F5)/F5))\n",
    "  \n",
    "out5 = widgets.interactive_output(force5,{'rho5':rho5,'U_guess':U_guess,'D5':D5,'mu5':mu5,'F5':F5})\n",
    "display(ui3c,out5)"
   ]
  },
  {
   "cell_type": "markdown",
   "metadata": {
    "jupyter": {
     "outputs_hidden": false
    },
    "tags": []
   },
   "source": [
    "### Velocity calculator #2\n",
    "This calculator is an exttension of the one in 4.1. This calculator does the iteration to find the $U$ which simultaneously satisfies Equations (1) and (2) automatically. \n",
    "It also incorporates the calculation in 3.2, so that the input is not force directly but particle density.\n",
    "The input panel below has text boxes for the particle size and density, and the fluid density and viscosity. Its output is the velocity of the corresponding particle."
   ]
  },
  {
   "cell_type": "code",
   "execution_count": null,
   "metadata": {
    "jupyter": {
     "source_hidden": true
    },
    "tags": []
   },
   "outputs": [],
   "source": [
    "def cd_error(r,F_D,rho,mu,U):\n",
    "    \"\"\"A function evaluating the error between the parameter U and the\n",
    "    movement speed of a sphere with radius r subjected to force F_D in\n",
    "    fluid with density rho and viscosity mu. The U for which this function\n",
    "    evaluates to zero is the steady state movement speed. \"\"\"\n",
    "    if U==0.:\n",
    "        return -F_D\n",
    "    else:\n",
    "        signU=np.sign(U)\n",
    "        absU=abs(U)\n",
    "        #print 'got here...',r,F_D,rho,mu,U\n",
    "        logRe=log(2.*rho*r*absU/mu,10)\n",
    "        logCd=CdRe(logRe)\n",
    "        return (signU*0.5*rho*pi*r**2*U**2)*10**logCd - F_D\n",
    "\n",
    "def U_sphere(r,F_D,rho,mu):\n",
    "    \"\"\"Steady-state movement velocity of a sphere in fluid, as determined by the\n",
    "    root of the error metric cd_error. \n",
    "    \"\"\"\n",
    "    # Determine the range over which the numerical root-finding algorithm should operate:\n",
    "    #Re_=2*rho*r*U./mu\n",
    "    Urange=relist[-1]*mu/(2.*rho*r)\n",
    "    Uerr = lambda u: cd_error(r,F_D,rho,mu,u)\n",
    "    U=bisect(Uerr,-Urange,Urange, rtol=0.000001,full_output=False)\n",
    "    return U\n",
    "\n",
    "mu6=widgets.FloatText(value=1.376e-3,width=20,description = r\"$\\mu~~ (\\frac{N s}{m^2})$\")\n",
    "rho_water=widgets.FloatText(value=1028.,description = r\"$\\rho~~ (\\frac{kg}{m^3})$\")\n",
    "rho_sphere=widgets.FloatText(value=1105.,description = r\"$\\rho_{sphere}~~ (\\frac{kg}{m^3})$\")\n",
    "#U_guess=widgets.FloatText(value=0.001,description = r\"$U_{guess}~~ (\\frac{m}{s})$\")\n",
    "D6=widgets.FloatText(value=5.e-6,description = r\"$D~~ (m)$\")\n",
    "#F6=widgets.FloatText(value=1.e-11,description = r\"$F~~ (N)$\")\n",
    "\n",
    "ui1d = widgets.VBox([mu6,rho_water])\n",
    "ui2d = widgets.VBox([rho_sphere,D6])\n",
    "ui3d = widgets.HBox([ui1d, ui2d])\n",
    "\n",
    "def U6(rho_water,rho_sphere,D6,mu6):\n",
    "    rr=D6/2.\n",
    "    vol=float(4./3.*pi*rr**3)\n",
    "    excess_mass=-(rho_sphere-rho_water)*vol # Keep the same sign convention as \n",
    "                                            # Het_labX.sws -- positive z is up\n",
    "    g=9.81\n",
    "    ff=g*excess_mass\n",
    "    if rho_water==rho_sphere:\n",
    "        print('External force is zero...')\n",
    "        U_s=0.\n",
    "    else:\n",
    "        U_s=U_sphere(rr,ff,rho_water,mu6)\n",
    "    print('Volume = {:.4g}'.format(vol))\n",
    "    print('Excess mass = {:.4g}'.format(excess_mass))\n",
    "    print('Gravity/buoyancy force = {:.4g}'.format(g*excess_mass))\n",
    "    print('Reynolds number: Re = {:.4g}'.format(2.*rr*abs(U_s)*rho_water/mu6))\n",
    "    print('U = {:.4g}'.format(U_s))\n",
    "  \n",
    "out6 = widgets.interactive_output(U6,{'rho_water':rho_water,'rho_sphere':rho_sphere,\n",
    "                                      'D6':D6,'mu6':mu6})\n",
    "display(ui3d,out6)\n",
    "\n",
    "    #Flux_diff= 4 * pi * dd * rr * (C_w-C_s)\n",
    "    #Sh = Sherwood(rr,dd,rho_water,mu,abs(U_s))\n",
    "    #Flux_adv=float(Sh*Flux_diff)\n",
    "    #print 'Sherwood number: Sh = ',Sh\n",
    "    #print 'Diffusive flux: F_diff = ',float(Flux_diff)\n",
    "    #print 'Advective flux: F_adv = ',float(Flux_adv)"
   ]
  }
 ],
 "metadata": {
  "kernelspec": {
   "display_name": "Python 3 (ipykernel)",
   "language": "python",
   "name": "python3"
  },
  "language_info": {
   "codemirror_mode": {
    "name": "ipython",
    "version": 3
   },
   "file_extension": ".py",
   "mimetype": "text/x-python",
   "name": "python",
   "nbconvert_exporter": "python",
   "pygments_lexer": "ipython3",
   "version": "3.10.12"
  }
 },
 "nbformat": 4,
 "nbformat_minor": 4
}
