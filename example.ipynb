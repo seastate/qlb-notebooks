{
 "cells": [
  {
   "cell_type": "markdown",
   "id": "c72315b2-015b-4c96-a28f-b42da73a7719",
   "metadata": {
    "tags": []
   },
   "source": [
    "# 🧮 An example Jupyter notebook"
   ]
  },
  {
   "cell_type": "markdown",
   "id": "6464c2a8-bbe7-4c6d-b7a1-ec10e4507aea",
   "metadata": {},
   "source": [
    "This is an example of a Jupyter notebook, intended to demonstrate a few of the properties that make these notebooks useful for executable books.\n",
    "This notebook can be run online via [Binder](https://mybinder.org/v2/gh/seastate/qlb-notebooks/main?labpath=example.ipynb), by clicking on the button below:\n",
    "\n",
    "[![Binder](https://mybinder.org/badge_logo.svg)](https://mybinder.org/v2/gh/seastate/qlb-notebooks/main?labpath=ReynoldsSphere.ipynb)\n",
    "\n",
    "Note that when you open a notebook on Binder, the Python environment in which the notebook runs must be loaded before it can execute. \n",
    "Depending on its size and how many other users are on Binder, this can take a few minutes.\n",
    "\n",
    "Alternatively, it can be run directly on your own machine if you have JupyterLab set up, by cloning the [qlb-notebooks](https://github.com/seastate/qlb-notebooks) repository or the source materials for this [book](https://github.com/organismal-systems/quant-larval-bio).\n",
    "\n",
    "Jupyter notebooks are composed of *cells*.\n",
    "To execute a cell, make it the active cell by clicking on it, and either type *shift-enter* or select *Run Selected Cells* from the *Run* menu at the top of the page.\n",
    "\n",
    "The sentences you are reading are in a cell of type \"Markdown\".\n",
    "This is indicated (and, if need be, selected) in the drop-down menu at the top of the page.\n",
    "As the name suggests, the content of this cell is coded in the formatting language Markdown, and when executed is rendered as a formatted display.\n",
    "\n",
    "To see the Markdown code, click on the blue vertical bar at left, then type the letter \"m\" on your keyboard (or just double-click on the cell).\n",
    "The cell will now show the original Markdown code.\n",
    "Now you are able, for example, to edit words and links in the cell.\n",
    "\n",
    "To re-render it, execute the cell by typing *shift-enter*.\n",
    "Now you see the formatted display."
   ]
  },
  {
   "cell_type": "markdown",
   "id": "c6c4ec81-5632-401a-b443-be88ebc2e1ab",
   "metadata": {
    "tags": []
   },
   "source": [
    "## Python code cells\n",
    "The cell below is a *Code* cell, containing Python commands to be run when the cell is executed (as always, by typing *shift-enter*).\n",
    "\n",
    "In Jupyter Lab, the commands in code cells can be hidden by clicking on the blue vertical bar at left, leaving only three small dots visible.\n",
    "The output remains visible below in its own cell. \n",
    "\n",
    "This is convenient when there is a lot of code that would be distracting in ordinary usage of the notebook.\n",
    "For example, the parameters in many models are set in textboxes (called \"widgets\").\n",
    "This means users don't need to interact directly with the code, but also that there is a substantial amount of code needed to set up the widgets. \n",
    "Hiding that code makes using the model more intuitive and visually appealing.\n",
    "To make the code visible, click on the blue vertical bar again.\n",
    "\n",
    "The output can also be hidden and exposed by clicking on the vertical bar."
   ]
  },
  {
   "cell_type": "code",
   "execution_count": null,
   "id": "8fa65d98-e325-4561-b843-6a4943ca672e",
   "metadata": {
    "tags": []
   },
   "outputs": [],
   "source": [
    "# This is a simple test of whether your notebook is executing correctly: \n",
    "# Change the value of a or b and shift-enter.\n",
    "# The output should reflect your updated addition calculation.\n",
    "a = 2\n",
    "b = 3\n",
    "print('{} + {} = {}'.format(a,b,a+b))"
   ]
  },
  {
   "cell_type": "code",
   "execution_count": null,
   "id": "4e2138ad-2bee-4fec-8726-0db9d6f1850b",
   "metadata": {},
   "outputs": [],
   "source": [
    "# This cell shows an example of defining a Python class, in this case representing a \n",
    "# spherical marine invertebrate egg, with some calculated properties.\n",
    "from math import pi # import the value of pi from the math module\n",
    "class Egg():\n",
    "    \"\"\" An example of a class definition in Python, that facilitates calculating\n",
    "        the surface area and volume of a spherical egg given its diameter.\n",
    "        If the parameter d is not supplied, it defaults to d=1\n",
    "    \"\"\"\n",
    "    def __init__(self,d=1):\n",
    "        \"\"\" Create an Egg instance.\n",
    "        \"\"\"\n",
    "        self.d = d            # save the diameter as an attribute of the egg\n",
    "        self.r = d/2          # calculate the radius\n",
    "        self.A = pi * d**2    # calculate the surface area\n",
    "        self.V = pi/6 * d**3  # calculate the volume\n"
   ]
  },
  {
   "cell_type": "code",
   "execution_count": null,
   "id": "594ad681-305b-46f5-9fe5-a62343791024",
   "metadata": {
    "tags": []
   },
   "outputs": [],
   "source": [
    "# An example of using an instance of the Egg class.\n",
    "egg = Egg(d=2)\n",
    "print(f'The surface area of an egg of diameter {egg.d} is {egg.A} and its volume is {egg.V}')"
   ]
  },
  {
   "cell_type": "code",
   "execution_count": null,
   "id": "f0d52cf1-037d-42ee-a1d3-8ad7c0e1fe89",
   "metadata": {
    "tags": []
   },
   "outputs": [],
   "source": [
    "# Now let's look at some plotting examples. Here is an example of making a list of diameters,\n",
    "# using that to make lists of volumes and areas, and then making a plot of area and volume as\n",
    "# functions of diameter.\n",
    "import matplotlib.pyplot as plt # import the pyplot graphics library\n",
    "plt.ion()                       # use interactive plotting mode\n",
    "ds = [0.1*(d+1) for d in range(150)]\n",
    "As = [Egg(d).A for d in ds]\n",
    "Vs = [Egg(d).V for d in ds]\n",
    "# Create a plot object, and add the first subplot\n",
    "fig = plt.figure()\n",
    "# Plot area and volume against diameter, on a linear axis\n",
    "ax1 = fig.add_subplot(1,2,1)\n",
    "ax1.plot(ds,As,label='Area')\n",
    "ax1.plot(ds,Vs,label='Volume')\n",
    "ax1.legend()\n",
    "ax1.grid()\n",
    "# Plot area and volume against diameter, on a log axis\n",
    "ax2 = fig.add_subplot(1,2,2)\n",
    "ax2.plot(ds,As,label='Area')\n",
    "ax2.plot(ds,Vs,label='Volume')\n",
    "ax2.set_xscale('log')\n",
    "ax2.set_yscale('log')\n",
    "ax2.legend()\n",
    "ax2.grid()"
   ]
  },
  {
   "cell_type": "markdown",
   "id": "c233dbdf-dd65-42e4-bf8d-bb4f652b20cd",
   "metadata": {},
   "source": [
    "The plots above demonstrate several things.\n",
    "First, if they are visible, they show your Jupyter notebook is executing correctly.\n",
    "\n",
    "Secondly, they provide examples of using a model (in this case, a very simple model\n",
    "of egg characteristics) to make a systematic study of variation of key model results across a range of input variables.\n",
    "This sytematic use of models to understand cause and effect, analogous to systematic variation of parameters in experimental design, is one of the most important yet widely underappreciated uses of models.\n",
    "\n",
    "Thirdly, they illustrate that a very orderly pattern of variation exists in area and volume as functions of diameter -- area and volume are simple lines as functions of diameter on a log-log plot -- but the simplicity of this variation is obvious only when scaled and plotted in a specific way.\n",
    "\n",
    "All three of these are important ideas to carry forward in using this book."
   ]
  },
  {
   "cell_type": "code",
   "execution_count": null,
   "id": "7680293e-4284-45af-a30d-6bcbaf2d8b93",
   "metadata": {
    "tags": []
   },
   "outputs": [],
   "source": []
  }
 ],
 "metadata": {
  "kernelspec": {
   "display_name": "Python 3 (ipykernel)",
   "language": "python",
   "name": "python3"
  },
  "language_info": {
   "codemirror_mode": {
    "name": "ipython",
    "version": 3
   },
   "file_extension": ".py",
   "mimetype": "text/x-python",
   "name": "python",
   "nbconvert_exporter": "python",
   "pygments_lexer": "ipython3",
   "version": "3.11.5"
  }
 },
 "nbformat": 4,
 "nbformat_minor": 5
}
