{
 "cells": [
  {
   "cell_type": "markdown",
   "id": "ebf8edda-8196-40e0-8566-ca330d167c4f",
   "metadata": {},
   "source": [
    "# Scale models and non-dimensional numbers"
   ]
  },
  {
   "cell_type": "markdown",
   "id": "1e9f3fae-81d9-4f2b-be91-26e331b85958",
   "metadata": {},
   "source": [
    "## Scale models\n",
    "Much of the discussion in this book involves scale models and non-dimensional numbers.\n",
    "Most of us are familiar with scale models, even if we don't ordimarily think of them using that description.\n",
    "For example, a model boat that a child plays with in a bathtub is a scale model of a full sized boat that floats on the ocean. \n",
    "A doll is a scale model of a human being.\n",
    "An architect often uses a scale model of a building to develop and explain a design. \n",
    "These examples are of large objects made small enough to be practical and inexpensive, but scale models that are enlargements of the original can also be useful. \n",
    "For example, a model of a microorganism or cell can be a useful tool for understanding its morphology and relationship with its surroundings. \n",
    "\n",
    "These examples reflect **geometric similarity**.\n",
    "That is, the derived objects are scale models because their components have **geometries that are similar in proportion* to the originals**.\n",
    "\n",
    "### Dynamic similarity\n",
    "The concept of similarity can be extended to include forces acting on objects and their surroundings.\n",
    "This concept is called **dynamic similarity**.\n",
    "Scale models are dynamically similar if, in addition to being geometrically similar in proportion, *the different forces acting on them are also similar in proportion.*\n",
    "\n",
    "To understand this idea better, let's look at video of a scale model of the Titanic sailing on a body of water.\n",
    "A convenient way to play this video from YouTube in a Jupyter notebook cell is shown in [this post](https://gist.github.com/christopherlovell/e3e70880c0b0ad666e7b5fe311320a62).\n",
    "\n",
    "As you watch this video, consider your intuition about how big the model is."
   ]
  },
  {
   "cell_type": "code",
   "execution_count": null,
   "id": "c1f648ed-28fc-496b-a554-1093503b35db",
   "metadata": {
    "tags": []
   },
   "outputs": [],
   "source": [
    "# First, we import the appropriate library\n",
    "from IPython.display import YouTubeVideo"
   ]
  },
  {
   "cell_type": "code",
   "execution_count": null,
   "id": "3c9c19f5-3352-4079-91f9-d52d95cc3a27",
   "metadata": {
    "tags": []
   },
   "outputs": [],
   "source": [
    "# Next, we define a function to take care of some formatting awkwardness\n",
    "# in the URLs of YouTube videos\n",
    "def display_yotube_video(url, **kwargs):\n",
    "    \"\"\"\n",
    "    Displays a Youtube video in a Jupyter notebook.\n",
    "    \n",
    "    Args:\n",
    "        url (string): a link to a Youtube video.\n",
    "        **kwargs: further arguments for IPython.display.YouTubeVideo\n",
    "    \n",
    "    Returns:\n",
    "        YouTubeVideo: a video that is displayed in your notebook.\n",
    "    \"\"\"\n",
    "    id_ = url.split(\"=\")[-1]\n",
    "    return YouTubeVideo(id_, **kwargs)\n"
   ]
  },
  {
   "cell_type": "code",
   "execution_count": null,
   "id": "929c87d7-357a-4866-9836-ba3d49d451c9",
   "metadata": {
    "tags": []
   },
   "outputs": [],
   "source": [
    "# Finally, we use this function to link to a video by Rick Norris of his Titanic model\n",
    "# sailing on a pond.\n",
    "display_yotube_video(\"https://www.youtube.com/watch?v=8hghNqCZmso\", width=800, height=600)"
   ]
  },
  {
   "cell_type": "markdown",
   "id": "c1fcbd37-9b9b-433b-a122-0f844e195dec",
   "metadata": {},
   "source": [
    "What is your intuitive estimate of the size of this model?\n",
    "\n",
    "The model in this video is a very detailed scale model of the Titanic.\n",
    "It is geometrically similar in nearly every detail visible in the video, and in a great many that are not visible.\n",
    "There is little direct information about the size of the model (such as a ruler, human hand or other object of known scale)\n",
    "Nonetheless, it is immediately apparent from watching the video that this model is not 267 meters long, like the full sized Titanic was.\n",
    "What is it about the video that makes the model seem smaller?\n",
    "\n",
    "It is the context of the water motion.\n",
    "The water is behaving as water always does, and the model is geometrically similar. \n",
    "However, the relative motion of the water waves and model are out of proportion with each other, compared to a full sized ship moving in the ocean.\n",
    "\n",
    "That is, the forces moving the ship and the forces moving the water are not dynamically similar.\n",
    "It is our intuition based on many experiences watching lakes, oceans, pools and other water bodies that give us a sense of scale for waves.\n",
    "The model gives little indication of its size, but the size scale suggested by our intuition for the water waves tells us that the model is only about a meter long (it's actually a 1:212 scale model, with a length of roughly 1.25m)."
   ]
  },
  {
   "cell_type": "markdown",
   "id": "cb324c84-37ed-4ebf-aa8e-f8b745fa0743",
   "metadata": {},
   "source": [
    "# Non-dimensional numbers\n",
    "\n",
    "The idea of *proportions generalized to include both geometries and forces* is most practical to work with using **non-dimensional numbers**.\n",
    "Dimensions, in this context, refers to measurements in physical units (such as SI units: meters, seconds, kilograms, etc.).\n",
    "\"Non-dimensional numbers\" is somewhat strange terminology, because by nature pure numbers are not associated with any physical dimensions.\n",
    "In this context, though, \"non-dimensional\" refers to ratios that have no dimensions because the units of the numerator are the same as the units of the denominator.\n",
    "\n",
    "Non-dimensional numbers are useful in quantitative sciences for two reasons:\n",
    "1. Many phenomena are governed by non-dimensional combinations of parameters, which is made explicit in the form of non-dimensional numbers. \n",
    "By using non-dimensional numbers as \"meta\" parameters, these phenomena can be understood and predicted using far fewer variables than in the original dimensional form.\n",
    "2. Non-dimensional numbers in which the denominator and the numerator reflect different mechanisms can be indicators of the relative importance of those mechanisms, across variation in important parameters such as size, speed, duration, etc.\n",
    "\n",
    "Because non-dimensional numbers are not intuitive the first few times they are encountered, it's worth delving into some further explanation of these ideas."
   ]
  },
  {
   "cell_type": "markdown",
   "id": "07f76de5-0500-4e27-853a-0f4a07531f81",
   "metadata": {},
   "source": [
    "### Nothing is big or small by itself\n",
    "\n",
    "A good starting point for thinking about non-dimensional numbers is to consider the fact that adjectives like big, small, fast, slow, etc. are *relative* descriptions.\n",
    "\n",
    "That is, nothing is big or small except in comparison to something else.\n",
    "In our ordinary thinking, that something else is a standard set of units.\n",
    "For example, the fundamental SI unit for length is the meter.\n",
    "An object a kilometer long is \"big\" compared to a meter -- it's equal to 1000 of them.\n",
    "An object a micron long is \"small\", because it's only 1/1000th of a meter.\n",
    "\n",
    "Suppose, instead, we adopt a complementary perspective, in which the basis for comparison comes from the object itself.\n",
    "This depends on finding what are called **characteristic values**.\n",
    "Characteristic values could include a length, speed or duration that emerges from the object or its interations with its surroundings.\n",
    "These characteristic values specify a subset chosen from a set of scale models.\n",
    "\n",
    "Let's begin with an intentionally simplified example, that we completely understand: \n",
    "In the previous page, we considered the surface area, $A$, and volume, $V$, of a spherical egg.\n",
    "All spheres are scale models of each other.\n",
    "Across the set of spheres, there is a single parameter, the diameter $d$, to specify a unique sphere.\n",
    "Knowing $d$, we can calculate the surface area and volume using the formulas\n",
    "\n",
    "- $A = \\pi d^2$\n",
    "- $V = \\frac{\\pi}{6} d^3$\n",
    "\n",
    "Let's consider using a non-dimensional ratio to express these formulas, in a more general form with fewer parameters.\n",
    "We'll start by choosing a characteristic length, $L$.\n",
    "The geometry of the egg suggests that the most useful choice of characteristic value is the length scale corresponding to the diameter, \n",
    "- $L = d$.\n",
    "\n",
    "From this characteristic length $d$, we can substitute into the formulas for $A$ and $V$:\n",
    "- $A = \\pi L^2$\n",
    "- $V = \\frac{\\pi}{6} L^3$\n",
    "\n",
    "Dividing by $L^2$ and $L^3$ respectively,\n",
    "- $\\frac{A}{L^2} = \\pi$\n",
    "- $\\frac{V}{L^3} = \\frac{\\pi}{6}$\n",
    "Note that $L^2$ is the area of a square of length $L$ on each side, and $L^3$ is the volume of a cube of length $L$ on each edge.\n",
    "\n",
    "These expressions show that in terms of the variables $\\hat{A} = \\frac{A}{L^2}$ and $\\hat{V} = \\frac{V}{L^3}$, the area and volume are\n",
    "- $\\hat{A} = \\pi$\n",
    "- $\\hat{V} = \\frac{\\pi}{6}$\n",
    "\n",
    "That is, expressed in these new variables, the area and volume are constant.\n",
    "We have reduced the number of parameters from one to zero!\n",
    "\n",
    "#### What did we just do?\n",
    "In the lines above, we did not create any new formulas or data.\n",
    "The only thing we did was to change variables, to express the diameter, area and volume in terms of a characteristic length, $L$.\n",
    "\n",
    "As a result of this change in variables, \n",
    "- All the effects of **size** are encapsulated in the length scale, $L$. \n",
    "- All the effects of **shape** are encapsulated in the constants $\\hat{A}$ and $\\hat{V}$.\n",
    "\n",
    "The shape effects hold for all spheres.\n",
    "The result that one constant summarizes the surface area or volume of all spheres is a simplification from a list of measured volumes, and even from the formua that specifies it as a function of an infinite spectrum of diameters.\n",
    "\n",
    "As stated, this example started with an extremely simple calculation, which the analysis made still simpler.\n",
    "The real utility of non-dimensionalization is found in application to more complex problems, in which there are many independent variables and for which no formulas are available.\n",
    "In these cases, including examples found in the following chapters of this book, a reduction in the number of parameters and an orderly separation of effects of different elements of the problem can be very useful and insightful."
   ]
  },
  {
   "cell_type": "markdown",
   "id": "ed488f6d-f4f0-4715-b855-89b5c1d45f72",
   "metadata": {},
   "source": [
    "Add simple extension to other shapes, e.g. ellipsiods"
   ]
  },
  {
   "cell_type": "code",
   "execution_count": null,
   "id": "2cc03406-c462-4e0b-9e30-7c2db891d3de",
   "metadata": {},
   "outputs": [],
   "source": []
  }
 ],
 "metadata": {
  "kernelspec": {
   "display_name": "Python 3 (ipykernel)",
   "language": "python",
   "name": "python3"
  },
  "language_info": {
   "codemirror_mode": {
    "name": "ipython",
    "version": 3
   },
   "file_extension": ".py",
   "mimetype": "text/x-python",
   "name": "python",
   "nbconvert_exporter": "python",
   "pygments_lexer": "ipython3",
   "version": "3.10.12"
  }
 },
 "nbformat": 4,
 "nbformat_minor": 5
}
