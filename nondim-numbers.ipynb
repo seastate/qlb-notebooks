{
 "cells": [
  {
   "cell_type": "markdown",
   "id": "ebf8edda-8196-40e0-8566-ca330d167c4f",
   "metadata": {},
   "source": [
    "# &#128214; Non-dimensional numbers"
   ]
  },
  {
   "cell_type": "markdown",
   "id": "cb324c84-37ed-4ebf-aa8e-f8b745fa0743",
   "metadata": {},
   "source": [
    "## Non-dimensional numbers\n",
    "\n",
    "The idea of *proportions generalized to include both geometries and forces* is most practical to work with using **non-dimensional numbers**.\n",
    "Dimensions, in this context, refers to measurements in physical units (such as SI units: meters, seconds, kilograms, etc.).\n",
    "\"Non-dimensional numbers\" is somewhat strange terminology, because by nature pure numbers are not associated with any physical dimensions.\n",
    "In this context, though, \"non-dimensional\" refers to ratios that have no dimensions because the units of the numerator are the same as the units of the denominator.\n",
    "That is, **non-dimensional numbers are composed of factors with units (lengths, times, masses, etc.) but they are nonetheless non-dimensional because the units of their factors cancel.**\n",
    "\n",
    "Many non-dimensional numbers have been devised in diverse fields of science.\n",
    "Some of these are listed, together with their physical interpretations, in [this Wikipedia page](https://en.wikipedia.org/wiki/List_of_dimensionless_quantities).\n",
    "\n",
    "Non-dimensional numbers are useful in quantitative sciences for two reasons:\n",
    "1. Many phenomena are governed by non-dimensional combinations of parameters, which is made explicit in the form of non-dimensional numbers. \n",
    "By using non-dimensional numbers as \"meta\" parameters, these phenomena can be understood and predicted using far fewer variables than in the original dimensional form.\n",
    "2. Non-dimensional numbers in which the denominator and the numerator reflect different mechanisms can be indicators of the relative importance of those mechanisms, across variation in important parameters such as size, speed, duration, etc.\n",
    "\n",
    "Because non-dimensional numbers are not intuitive the first few times they are encountered, it's worth delving into some further explanation of these ideas."
   ]
  },
  {
   "cell_type": "markdown",
   "id": "07f76de5-0500-4e27-853a-0f4a07531f81",
   "metadata": {},
   "source": [
    "### Nothing is big or small by itself\n",
    "\n",
    "A good starting point for thinking about non-dimensional numbers is to consider the fact that adjectives like big, small, fast, slow, etc. are *relative* descriptions.\n",
    "\n",
    "That is, nothing is big or small except in comparison to something else.\n",
    "In our ordinary thinking, that something else is a standard set of units.\n",
    "For example, the fundamental SI unit for length is the meter.\n",
    "An object a kilometer long is \"big\" compared to a meter -- it's equal to 1000 of them.\n",
    "An object a micron long is \"small\", because it's only 1/1000th of a meter.\n",
    "\n",
    "Suppose, instead, we adopt a complementary perspective, in which the basis for comparison comes from the object itself.\n",
    "This depends on finding what are called **characteristic values**.\n",
    "Characteristic values could include a length, speed or duration that emerges from the object or its interations with its surroundings.\n",
    "These characteristic values specify a subset chosen from a set of scale models.\n",
    "\n",
    "Let's begin with an intentionally simplified example, that we completely understand: \n",
    "In the previous page, we considered the surface area, $A$, and volume, $V$, of a spherical egg.\n",
    "All spheres are scale models of each other.\n",
    "Across the set of spheres, there is a single parameter, the diameter $d$, to specify a unique sphere.\n",
    "Knowing $d$, we can calculate the surface area and volume using the formulas\n",
    "\n",
    "- $A = \\pi d^2$\n",
    "- $V = \\frac{\\pi}{6} d^3$\n",
    "\n",
    "Let's consider using a non-dimensional ratio to express these formulas, in a more general form with fewer parameters.\n",
    "We'll start by choosing a characteristic length, $L$.\n",
    "The geometry of the egg suggests that the most useful choice of characteristic value is the length scale corresponding to the diameter, \n",
    "- $L = d$.\n",
    "\n",
    "From this characteristic length $d$, we can substitute into the formulas for $A$ and $V$:\n",
    "- $A = \\pi L^2$\n",
    "- $V = \\frac{\\pi}{6} L^3$\n",
    "\n",
    "Dividing by $L^2$ and $L^3$ respectively,\n",
    "- $\\frac{A}{L^2} = \\pi$\n",
    "- $\\frac{V}{L^3} = \\frac{\\pi}{6}$\n",
    "\n",
    "Note that $L^2$ is the area of a square of length $L$ on each side, and $L^3$ is the volume of a cube of length $L$ on each edge.\n",
    "\n",
    "These expressions show that in terms of the variables $\\hat{A} = \\frac{A}{L^2}$ and $\\hat{V} = \\frac{V}{L^3}$, the area and volume are\n",
    "- $\\hat{A} = \\pi$\n",
    "- $\\hat{V} = \\frac{\\pi}{6}$\n",
    "\n",
    "That is, expressed in these new variables, the area and volume are constant.\n",
    "We have reduced the number of parameters from one to zero!\n",
    "\n",
    "#### What did we just do?\n",
    "In the lines above, we did not create any new formulas or data.\n",
    "The only thing we did was to change variables, to express the diameter, area and volume in terms of a characteristic length, $L$.\n",
    "\n",
    "As a result of this change in variables, \n",
    "- All the effects of **size** are encapsulated in the length scale, $L$. \n",
    "- All the effects of **shape** are encapsulated in the constants $\\hat{A}$ and $\\hat{V}$.\n",
    "\n",
    "The shape effects hold for all spheres.\n",
    "The result that one constant summarizes the surface area or volume of all spheres is a simplification from a list of measured volumes, and even from the formua that specifies it as a function of an infinite spectrum of diameters.\n",
    "\n",
    "Because this formulation separates the effects of size from those of shape, we can expect that for this principle applies to any shape. \n",
    "For example, if the basic shape is an ellipsiod, a dodecahedron, or a lobster, the shape factor will be a new constant, but size effects will obey equations of the same form.\n",
    "\n",
    "As stated, this example started with an extremely simple calculation, which the analysis made still simpler.\n",
    "The real utility of non-dimensionalization is found in application to more complex problems, in which there are many independent variables and for which no formulas are available.\n",
    "In these cases, including examples found in the following chapters of this book, a reduction in the number of parameters and an orderly separation of effects of different elements of the problem can be very useful and insightful."
   ]
  },
  {
   "cell_type": "code",
   "execution_count": null,
   "id": "2cc03406-c462-4e0b-9e30-7c2db891d3de",
   "metadata": {},
   "outputs": [],
   "source": []
  }
 ],
 "metadata": {
  "kernelspec": {
   "display_name": "Python 3 (ipykernel)",
   "language": "python",
   "name": "python3"
  },
  "language_info": {
   "codemirror_mode": {
    "name": "ipython",
    "version": 3
   },
   "file_extension": ".py",
   "mimetype": "text/x-python",
   "name": "python",
   "nbconvert_exporter": "python",
   "pygments_lexer": "ipython3",
   "version": "3.11.5"
  }
 },
 "nbformat": 4,
 "nbformat_minor": 5
}
